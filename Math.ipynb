{
 "cells": [
  {
   "cell_type": "markdown",
   "metadata": {},
   "source": [
    "# Force Over Time\n",
    "to run this code you need to use the Sage Python Kernel"
   ]
  },
  {
   "cell_type": "code",
   "execution_count": null,
   "metadata": {},
   "outputs": [
    {
     "data": {
      "text/html": [
       "<html>\\(\\displaystyle \\frac{F}{m_{0} - \\frac{\\mathit{dm} t}{\\mathit{dt}}}\\)</html>"
      ],
      "text/latex": [
       "$\\displaystyle \\frac{F}{m_{0} - \\frac{\\mathit{dm} t}{\\mathit{dt}}}$"
      ],
      "text/plain": [
       "F/(m0 - dm*t/dt)"
      ]
     },
     "metadata": {},
     "output_type": "display_data"
    },
    {
     "data": {
      "text/html": [
       "<html>\\(\\displaystyle -F {\\left(\\frac{\\mathit{dt} \\log\\left(-\\mathit{dm} + m_{0}\\right)}{\\mathit{dm}} - \\frac{\\mathit{dt} \\log\\left(m_{0}\\right)}{\\mathit{dm}}\\right)}\\)</html>"
      ],
      "text/latex": [
       "$\\displaystyle -F {\\left(\\frac{\\mathit{dt} \\log\\left(-\\mathit{dm} + m_{0}\\right)}{\\mathit{dm}} - \\frac{\\mathit{dt} \\log\\left(m_{0}\\right)}{\\mathit{dm}}\\right)}$"
      ],
      "text/plain": [
       "-F*(dt*log(-dm + m0)/dm - dt*log(m0)/dm)"
      ]
     },
     "metadata": {},
     "output_type": "display_data"
    }
   ],
   "source": [
    "F, t, m0, dm, dt = var('F t m0 dm dt')\n",
    "\n",
    "assume(dt > 0)\n",
    "assume(dm > 0)\n",
    "assume(m0 > 0)\n",
    "assume(m0-dm > 0)\n",
    "\n",
    "m(t) = m0 - t*dm/dt\n",
    "\n",
    "eq(t) = F / m(t)\n",
    "\n",
    "inte = integral(eq(t), t, 0, dt)\n",
    "\n",
    "pretty_print(eq(t))\n",
    "pretty_print(inte)"
   ]
  }
 ],
 "metadata": {
  "kernelspec": {
   "display_name": "SageMath 10.3",
   "language": "sage",
   "name": "SageMath-10.3"
  },
  "language_info": {
   "codemirror_mode": {
    "name": "ipython",
    "version": 3
   },
   "file_extension": ".py",
   "mimetype": "text/x-python",
   "name": "sage",
   "nbconvert_exporter": "python",
   "pygments_lexer": "ipython3",
   "version": "3.11.8"
  }
 },
 "nbformat": 4,
 "nbformat_minor": 2
}
